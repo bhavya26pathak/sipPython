{
 "cells": [
  {
   "cell_type": "code",
   "execution_count": null,
   "metadata": {
    "collapsed": true
   },
   "outputs": [],
   "source": [
    "import pandas as pd\n",
    "import numpy as np\n",
    "import matplotlib.pyplot as plt\n",
    "import seaborn as sns\n",
    "%matplotlib inline"
   ]
  },
  {
   "cell_type": "code",
   "execution_count": null,
   "metadata": {
    "collapsed": true
   },
   "outputs": [],
   "source": [
    "train_data = pd.read_csv('Train_data.csv')"
   ]
  },
  {
   "cell_type": "code",
   "execution_count": null,
   "metadata": {
    "collapsed": true
   },
   "outputs": [],
   "source": [
    "test_data = pd.read_csv('test_data.csv')\n",
    "test_data = test_data.drop('Unnamed: 0', axis=1)"
   ]
  },
  {
   "cell_type": "code",
   "execution_count": null,
   "metadata": {},
   "outputs": [],
   "source": [
    "train_data.head()"
   ]
  },
  {
   "cell_type": "code",
   "execution_count": null,
   "metadata": {},
   "outputs": [],
   "source": [
    "test_data.head()"
   ]
  },
  {
   "cell_type": "code",
   "execution_count": null,
   "metadata": {},
   "outputs": [],
   "source": [
    "train_data.info()"
   ]
  },
  {
   "cell_type": "code",
   "execution_count": null,
   "metadata": {},
   "outputs": [],
   "source": [
    "train_data.describe()"
   ]
  },
  {
   "cell_type": "code",
   "execution_count": null,
   "metadata": {},
   "outputs": [],
   "source": [
    "train_data.columns"
   ]
  },
  {
   "cell_type": "code",
   "execution_count": null,
   "metadata": {},
   "outputs": [],
   "source": [
    "test_data.columns"
   ]
  },
  {
   "cell_type": "code",
   "execution_count": null,
   "metadata": {
    "collapsed": true
   },
   "outputs": [],
   "source": [
    "X_train = train_data.drop('xAttack', axis=1)\n",
    "Y_train = train_data.loc[:,['xAttack']]\n",
    "X_test = test_data.drop('xAttack',axis=1)\n",
    "Y_test = test_data.loc[:,['xAttack']]"
   ]
  },
  {
   "cell_type": "code",
   "execution_count": null,
   "metadata": {
    "collapsed": true
   },
   "outputs": [],
   "source": [
    "from sklearn import preprocessing\n",
    "from sklearn.preprocessing import OneHotEncoder"
   ]
  },
  {
   "cell_type": "code",
   "execution_count": null,
   "metadata": {
    "collapsed": true
   },
   "outputs": [],
   "source": [
    "le = preprocessing.LabelEncoder()"
   ]
  },
  {
   "cell_type": "code",
   "execution_count": null,
   "metadata": {},
   "outputs": [],
   "source": [
    "X_train['protocol_type'] = le.fit_transform(X_train['protocol_type'])\n",
    "\n",
    "X_test['protocol_type'] = le.fit_transform(X_test['protocol_type'])\n",
    "\n",
    "X_train.head()"
   ]
  },
  {
   "cell_type": "code",
   "execution_count": null,
   "metadata": {},
   "outputs": [],
   "source": [
    "Y_train['xAttack'] = le.fit_transform(Y_train['xAttack'])\n",
    "\n",
    "Y_test['xAttack'] = le.fit_transform(Y_test['xAttack'])\n",
    "\n",
    "Y_train.describe()"
   ]
  },
  {
   "cell_type": "code",
   "execution_count": null,
   "metadata": {},
   "outputs": [],
   "source": [
    "#except continuous feature\n",
    "con_list = ['protocol_type', 'service', 'flag', 'land', 'logged_in', 'su_attempted', 'is_host_login', 'is_guest_login']\n",
    "con_train = X_train.drop(con_list, axis=1)\n",
    "\n",
    "#drop n smallest std features\n",
    "stdtrain = con_train.std(axis=0)\n",
    "std_X_train = stdtrain.to_frame()\n",
    "std_X_train.nsmallest(10, columns=0).head(10)"
   ]
  },
  {
   "cell_type": "code",
   "execution_count": null,
   "metadata": {},
   "outputs": [],
   "source": [
    "X_train = X_train.drop(['num_outbound_cmds'], axis=1)\n",
    "X_test = X_test.drop(['num_outbound_cmds'], axis=1)\n",
    "\n",
    "df_train = pd.concat([X_train, Y_train], axis=1)\n",
    "df_train.head()\n",
    "\n",
    "X_train.head()"
   ]
  },
  {
   "cell_type": "code",
   "execution_count": null,
   "metadata": {},
   "outputs": [],
   "source": [
    "stdrop_list = ['urgent', 'num_shells', 'root_shell',\n",
    "        'num_failed_logins', 'num_access_files', 'dst_host_srv_diff_host_rate',\n",
    "        'diff_srv_rate', 'dst_host_diff_srv_rate', 'wrong_fragment']\n",
    "\n",
    "X_test_stdrop = X_test.drop(stdrop_list, axis=1)\n",
    "\n",
    "X_train_stdrop = X_train.drop(stdrop_list, axis=1)\n",
    "\n",
    "df_train_stdrop = pd.concat([X_train_stdrop, Y_train], axis=1)\n",
    "\n",
    "df_train_stdrop.head()"
   ]
  },
  {
   "cell_type": "code",
   "execution_count": null,
   "metadata": {
    "collapsed": true
   },
   "outputs": [],
   "source": [
    "from sklearn.linear_model import LinearRegression"
   ]
  },
  {
   "cell_type": "code",
   "execution_count": null,
   "metadata": {
    "collapsed": true
   },
   "outputs": [],
   "source": [
    "model = LinearRegression()"
   ]
  },
  {
   "cell_type": "code",
   "execution_count": null,
   "metadata": {},
   "outputs": [],
   "source": [
    "model.fit(X_train,Y_train)"
   ]
  },
  {
   "cell_type": "code",
   "execution_count": null,
   "metadata": {
    "collapsed": true
   },
   "outputs": [],
   "source": [
    "from sklearn.metrics import accuracy_score\n",
    "from sklearn.model_selection import cross_val_score"
   ]
  },
  {
   "cell_type": "code",
   "execution_count": null,
   "metadata": {},
   "outputs": [],
   "source": [
    "linearRegression_score = model.score(X_test, Y_test)\n",
    "linearRegression_score"
   ]
  },
  {
   "cell_type": "code",
   "execution_count": null,
   "metadata": {
    "collapsed": true
   },
   "outputs": [],
   "source": [
    "scores = cross_val_score(model, X_train, Y_train, cv=5)"
   ]
  },
  {
   "cell_type": "code",
   "execution_count": null,
   "metadata": {},
   "outputs": [],
   "source": [
    "scores"
   ]
  },
  {
   "cell_type": "code",
   "execution_count": null,
   "metadata": {},
   "outputs": [],
   "source": [
    "print(\"Accuracy: %0.2f (+/- %0.2f)\" % (scores.mean(), scores.std() * 2))"
   ]
  },
  {
   "cell_type": "code",
   "execution_count": null,
   "metadata": {},
   "outputs": [],
   "source": [
    "from sklearn.ensemble import AdaBoostClassifier\n",
    "from sklearn.ensemble import RandomForestClassifier\n",
    "from sklearn.ensemble import BaggingClassifier\n",
    "from sklearn.ensemble import ExtraTreesClassifier\n",
    "from sklearn.ensemble import GradientBoostingClassifier\n",
    "\n",
    "from sklearn.tree import DecisionTreeClassifier"
   ]
  },
  {
   "cell_type": "code",
   "execution_count": null,
   "metadata": {},
   "outputs": [],
   "source": [
    "AB = AdaBoostClassifier(base_estimator=DecisionTreeClassifier(), n_estimators=100, learning_rate=1.0)\n",
    "RF = RandomForestClassifier(n_estimators=10, criterion='entropy', max_features='auto', bootstrap=True)\n",
    "ET = ExtraTreesClassifier(n_estimators=10, criterion='gini', max_features='auto', bootstrap=False)\n",
    "GB = GradientBoostingClassifier(loss='deviance', learning_rate=0.1, n_estimators=200, max_features='auto')"
   ]
  },
  {
   "cell_type": "code",
   "execution_count": null,
   "metadata": {},
   "outputs": [],
   "source": [
    "y_train = Y_train['xAttack'].ravel()\n",
    "x_train = X_train.values\n",
    "x_test = X_test.values"
   ]
  },
  {
   "cell_type": "code",
   "execution_count": null,
   "metadata": {},
   "outputs": [],
   "source": [
    "AB.fit(X_train, Y_train)"
   ]
  },
  {
   "cell_type": "code",
   "execution_count": null,
   "metadata": {},
   "outputs": [],
   "source": [
    "AB_feature = AB.feature_importances_\n",
    "AB_feature\n",
    "\n",
    "ab_score = AB.score(X_test, Y_test)\n",
    "\n",
    "print('AdaBoostClassifier processing ,,,')\n",
    "print('AdaBoostClassifier Score: %.3f %%' % ab_score)"
   ]
  },
  {
   "cell_type": "code",
   "execution_count": null,
   "metadata": {},
   "outputs": [],
   "source": [
    "RF.fit(X_train, Y_train)"
   ]
  },
  {
   "cell_type": "code",
   "execution_count": null,
   "metadata": {},
   "outputs": [],
   "source": [
    "RF_feature = RF.feature_importances_\n",
    "RF_feature\n",
    "\n",
    "rf_score = RF.score(X_test, Y_test)\n",
    "\n",
    "print('RandomForestClassifier processing ,,,')\n",
    "print('RandomForestClassifier Score: %.3f %%' % rf_score)"
   ]
  },
  {
   "cell_type": "code",
   "execution_count": null,
   "metadata": {},
   "outputs": [],
   "source": [
    "ET.fit(X_train, Y_train)"
   ]
  },
  {
   "cell_type": "code",
   "execution_count": null,
   "metadata": {},
   "outputs": [],
   "source": [
    "ET_feature = ET.feature_importances_\n",
    "ET_feature\n",
    "\n",
    "et_score = ET.score(X_test, Y_test)\n",
    "\n",
    "print('ExtraTreesClassifier processing ,,,')\n",
    "print('ExtraTreeClassifier: %.3f %%' % et_score)"
   ]
  },
  {
   "cell_type": "code",
   "execution_count": null,
   "metadata": {},
   "outputs": [],
   "source": [
    "GB.fit(X_train, Y_train)"
   ]
  },
  {
   "cell_type": "code",
   "execution_count": null,
   "metadata": {},
   "outputs": [],
   "source": [
    "GB_feature = GB.feature_importances_\n",
    "GB_feature\n",
    "\n",
    "gb_score = GB.score(X_test, Y_test)\n",
    "\n",
    "print('GradientBoostingClassifier processing ,,,')\n",
    "print('GradientBoostingClassifier Score: %.3f %%' % gb_score)"
   ]
  },
  {
   "cell_type": "code",
   "execution_count": null,
   "metadata": {},
   "outputs": [],
   "source": [
    "cols = X_train.columns.values\n",
    "\n",
    "feature_df = pd.DataFrame({'features': cols,\n",
    "                           'AdaBoost' : AB_feature,\n",
    "                           'RandomForest' : RF_feature,\n",
    "                           'ExtraTree' : ET_feature,\n",
    "                           'GradientBoost' : GB_feature\n",
    "                          })\n",
    "feature_df.head(8)"
   ]
  },
  {
   "cell_type": "code",
   "execution_count": null,
   "metadata": {},
   "outputs": [],
   "source": [
    "from matplotlib.ticker import MaxNLocator\n",
    "from collections import namedtuple\n",
    "\n",
    "graph = feature_df.plot.bar(figsize = (18, 10), title = 'Feature distribution', grid=True, legend=True, fontsize = 15, \n",
    "                            xticks=feature_df.index)\n",
    "graph.set_xticklabels(feature_df.features, rotation = 80)"
   ]
  },
  {
   "cell_type": "code",
   "execution_count": null,
   "metadata": {
    "collapsed": true
   },
   "outputs": [],
   "source": [
    "a_f = feature_df.nlargest(12, 'AdaBoost')\n",
    "e_f = feature_df.nlargest(12, 'ExtraTree')\n",
    "g_f = feature_df.nlargest(12, 'GradientBoost')\n",
    "r_f = feature_df.nlargest(12, 'RandomForest')"
   ]
  },
  {
   "cell_type": "code",
   "execution_count": null,
   "metadata": {},
   "outputs": [],
   "source": [
    "result = pd.concat([a_f, e_f, g_f, r_f])\n",
    "result = result.drop_duplicates() # duplicate feature삭제\n",
    "result"
   ]
  },
  {
   "cell_type": "code",
   "execution_count": null,
   "metadata": {},
   "outputs": [],
   "source": [
    "selected_features = result['features'].values.tolist()\n",
    "selected_features"
   ]
  },
  {
   "cell_type": "code",
   "execution_count": null,
   "metadata": {},
   "outputs": [],
   "source": [
    "AB.fit(X_train_stdrop, Y_train)"
   ]
  },
  {
   "cell_type": "code",
   "execution_count": null,
   "metadata": {},
   "outputs": [],
   "source": [
    "ab2_score = AB.score(X_test_stdrop, Y_test)\n",
    "\n",
    "print('AdaBoostClassifier_stdrop processing ,,,')\n",
    "print('AdaBoostClasifier Score: %.3f %%' % ab2_score)"
   ]
  },
  {
   "cell_type": "code",
   "execution_count": null,
   "metadata": {},
   "outputs": [],
   "source": [
    "RF.fit(X_train_stdrop, Y_train)"
   ]
  },
  {
   "cell_type": "code",
   "execution_count": null,
   "metadata": {},
   "outputs": [],
   "source": [
    "rf2_score = RF.score(X_test_stdrop, Y_test)\n",
    "\n",
    "print('RandomForestClassifier_stdrop processing ,,,')\n",
    "print('RandomForestClassifier Score: %.3f %%' % rf2_score)"
   ]
  },
  {
   "cell_type": "code",
   "execution_count": null,
   "metadata": {},
   "outputs": [],
   "source": [
    "ET.fit(X_train_stdrop, Y_train)"
   ]
  },
  {
   "cell_type": "code",
   "execution_count": null,
   "metadata": {},
   "outputs": [],
   "source": [
    "et2_score = ET.score(X_test_stdrop, Y_test)\n",
    "\n",
    "print('ExtraTreesClassifier_stdrop processing ,,,')\n",
    "print('ExtraTreesClassifier Score: %.3f %%' % et2_score)"
   ]
  },
  {
   "cell_type": "code",
   "execution_count": null,
   "metadata": {},
   "outputs": [],
   "source": [
    "GB.fit(X_train_stdrop, Y_train)"
   ]
  },
  {
   "cell_type": "code",
   "execution_count": null,
   "metadata": {},
   "outputs": [],
   "source": [
    "gb2_score = GB.score(X_test_stdrop, Y_test)\n",
    "\n",
    "print('GradientBoostingClassifier_stdrop processing ,,,')\n",
    "print('GradientBoostingClassifier Score: %.2f %%' % gb2_score)"
   ]
  },
  {
   "cell_type": "code",
   "execution_count": null,
   "metadata": {},
   "outputs": [],
   "source": [
    "X_train_ens = X_train[selected_features]\n",
    "X_train_ens.head()\n",
    "\n",
    "X_test_ens = X_test[selected_features]\n",
    "X_test_ens.head()"
   ]
  },
  {
   "cell_type": "code",
   "execution_count": null,
   "metadata": {},
   "outputs": [],
   "source": [
    "sample = X_train_ens[:10000]\n",
    "\n",
    "colormap = plt.cm.viridis\n",
    "plt.figure(figsize=(20, 20))\n",
    "sns.heatmap(sample.astype(float).corr(), linewidths=0.1, vmax=1.0, square=True, cmap=colormap, annot=True)"
   ]
  },
  {
   "cell_type": "code",
   "execution_count": null,
   "metadata": {},
   "outputs": [],
   "source": [
    "selected2 = ['flag', 'dst_host_serror_rate', 'serror_rate']\n",
    "X_train_cordrop = X_train_ens.drop(selected2, axis=1)\n",
    "X_train_cordrop.describe()\n",
    "\n",
    "X_test_cordrop = X_test_ens.drop(selected2, axis=1)\n",
    "X_test_cordrop.describe()"
   ]
  },
  {
   "cell_type": "code",
   "execution_count": null,
   "metadata": {},
   "outputs": [],
   "source": [
    "AB.fit(X_train_cordrop, Y_train)"
   ]
  },
  {
   "cell_type": "code",
   "execution_count": null,
   "metadata": {},
   "outputs": [],
   "source": [
    "ab_finalscore = AB.score(X_test_cordrop, Y_test)\n",
    "\n",
    "print('AdaBoostClassifier_final processing ,,,')\n",
    "print('AdaBoostClassifier_final Score: %.3f %%' % ab_finalscore)"
   ]
  },
  {
   "cell_type": "code",
   "execution_count": null,
   "metadata": {},
   "outputs": [],
   "source": [
    "RF.fit(X_train_cordrop, Y_train)"
   ]
  },
  {
   "cell_type": "code",
   "execution_count": null,
   "metadata": {},
   "outputs": [],
   "source": [
    "rf_finalscore = RF.score(X_test_cordrop, Y_test)\n",
    "\n",
    "print('RandomForestClassifier_final processing ,,,')\n",
    "print('RandomForestClassifier_final Score: %.3f %%' % rf_finalscore)"
   ]
  },
  {
   "cell_type": "code",
   "execution_count": null,
   "metadata": {},
   "outputs": [],
   "source": [
    "ET.fit(X_train_cordrop, Y_train)"
   ]
  },
  {
   "cell_type": "code",
   "execution_count": null,
   "metadata": {},
   "outputs": [],
   "source": [
    "et_finalscore = ET.score(X_test_cordrop, Y_test)\n",
    "\n",
    "print('ExtraTreesClassifier_final processing ,,,')\n",
    "print('ExtraTreesClassifier_final Score: %.3f %%' % et_finalscore)"
   ]
  },
  {
   "cell_type": "code",
   "execution_count": null,
   "metadata": {},
   "outputs": [],
   "source": [
    "GB.fit(X_train_cordrop, Y_train)"
   ]
  },
  {
   "cell_type": "code",
   "execution_count": null,
   "metadata": {},
   "outputs": [],
   "source": [
    "gb_finalscore = GB.score(X_test_cordrop, Y_test)\n",
    "\n",
    "print('GradientBoostClassifier_final processing ,,,')\n",
    "print('GradientBoostClassifier_final Score: %.3f %%' % gb_finalscore)"
   ]
  },
  {
   "cell_type": "code",
   "execution_count": null,
   "metadata": {},
   "outputs": [],
   "source": [
    "LR.fit(X_train_cordrop, Y_train)"
   ]
  },
  {
   "cell_type": "code",
   "execution_count": null,
   "metadata": {
    "collapsed": true
   },
   "outputs": [],
   "source": [
    "lr_finalscore = LR.score(X_test_cordrop, Y_test)\n",
    "\n",
    "print('LinearRegression_final processing ,,,')\n",
    "print('LinearRegression_final Score: %.3f %%' % lr_finalscore)"
   ]
  },
  {
   "cell_type": "code",
   "execution_count": null,
   "metadata": {
    "collapsed": true
   },
   "outputs": [],
   "source": [
    "from sklearn.neural_network import MLPClassifier"
   ]
  },
  {
   "cell_type": "code",
   "execution_count": null,
   "metadata": {
    "collapsed": true
   },
   "outputs": [],
   "source": [
    "MLP = MLPClassifier(hidden_layer_sizes=(1000, 300, 300), solver='adam', shuffle=False, tol = 0.0001)"
   ]
  },
  {
   "cell_type": "code",
   "execution_count": null,
   "metadata": {
    "collapsed": true
   },
   "outputs": [],
   "source": [
    "MLP.fit(X_train_cordrop, Y_train)"
   ]
  },
  {
   "cell_type": "code",
   "execution_count": null,
   "metadata": {
    "collapsed": true
   },
   "outputs": [],
   "source": [
    "mlp_finalscore = MLP.score(X_test_cordrop, Y_test)\n",
    "\n",
    "print('MLP_final processing ,,,')\n",
    "print('MLP_final Score: %.3f %%' % mlp_finalscore)"
   ]
  },
  {
   "cell_type": "code",
   "execution_count": null,
   "metadata": {
    "collapsed": true
   },
   "outputs": [],
   "source": [
    "first_model = {'Model': ['Linear Regression', 'Adaboost', 'RandomForest', 'ExtraTrees', 'GradientBoost'],\n",
    "               'accuracy' : [lr_score, ab_score, rf_score, et_score, gb_score]}\n",
    "\n",
    "result_df = pd.DataFrame(data = first_model)\n",
    "result_df"
   ]
  },
  {
   "cell_type": "code",
   "execution_count": null,
   "metadata": {
    "collapsed": true
   },
   "outputs": [],
   "source": [
    "r1 = result_df.plot(x='Model', y='accuracy', kind='bar', figsize=(8, 8), grid=True, title='FIRST MODEL ACCURACY', colormap=plt.cm.viridis,\n",
    "               sort_columns=True)\n",
    "r1.set_xticklabels(result_df.Model, rotation = 45)"
   ]
  },
  {
   "cell_type": "code",
   "execution_count": null,
   "metadata": {
    "collapsed": true
   },
   "outputs": [],
   "source": [
    "second_model = {'Model': ['Adaboost', 'RandomForest', 'ExtraTrees', 'GradientBoost'],\n",
    "               'accuracy' : [ab2_score, rf2_score, et2_score, gb2_score]}\n",
    "\n",
    "result_df = pd.DataFrame(data = second_model)\n",
    "result_df"
   ]
  },
  {
   "cell_type": "code",
   "execution_count": null,
   "metadata": {
    "collapsed": true
   },
   "outputs": [],
   "source": [
    "r2 = result_df.plot(x='Model', y='accuracy', kind='bar', figsize=(8, 8), grid=True, title='SECOND MODEL ACCURACY', colormap=plt.cm.viridis,\n",
    "               sort_columns=True)\n",
    "r2.set_xticklabels(result_df.Model, rotation = 45)"
   ]
  },
  {
   "cell_type": "code",
   "execution_count": null,
   "metadata": {
    "collapsed": true
   },
   "outputs": [],
   "source": [
    "final_model = {'Model': ['Linear Regression', 'Adaboost', 'RandomForest', 'ExtraTrees', 'GradientBoost', 'MLP'],\n",
    "               'accuracy' : [lr_finalscore, ab_finalscore, rf_finalscore, et_finalscore, gb_finalscore, mlp_finalscore]}\n",
    "\n",
    "result_df = pd.DataFrame(data = final_model)\n",
    "result_df"
   ]
  },
  {
   "cell_type": "code",
   "execution_count": null,
   "metadata": {
    "collapsed": true
   },
   "outputs": [],
   "source": [
    "r3 = result_df.plot(x='Model', y='accuracy', kind='bar', figsize=(8, 8), grid=True, title='FINAL MODEL ACCURACY', colormap=plt.cm.viridis,\n",
    "               sort_columns=True)\n",
    "r3.set_xticklabels(result_df.Model, rotation = 45)"
   ]
  },
  {
   "cell_type": "code",
   "execution_count": null,
   "metadata": {
    "collapsed": true
   },
   "outputs": [],
   "source": []
  }
 ],
 "metadata": {
  "kernelspec": {
   "display_name": "Python 3",
   "language": "python",
   "name": "python3"
  }
 },
 "nbformat": 4,
 "nbformat_minor": 2
}
